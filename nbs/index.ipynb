{
 "cells": [
  {
   "cell_type": "code",
   "execution_count": 23,
   "metadata": {},
   "outputs": [
    {
     "data": {
      "text/html": [
       "\n",
       "<script src=\"https://unpkg.com/ml5@1/dist/ml5.js\"></script>\n"
      ],
      "text/plain": [
       "<IPython.core.display.HTML object>"
      ]
     },
     "metadata": {},
     "output_type": "display_data"
    },
    {
     "data": {
      "application/javascript": "\nconsole.log(\"ml5.js loaded successfully!\");\n",
      "text/plain": [
       "<IPython.core.display.Javascript object>"
      ]
     },
     "metadata": {},
     "output_type": "display_data"
    },
    {
     "data": {
      "text/html": [
       "\n",
       "<script>\n",
       "  // Asegúrate de que el script de ml5.js se haya cargado\n",
       "  document.addEventListener('DOMContentLoaded', (event) => {\n",
       "    let handpose;\n",
       "    let video;\n",
       "    let predictions = [];\n",
       "\n",
       "    function setup() {\n",
       "      createCanvas(640, 480);\n",
       "      video = createCapture(VIDEO);\n",
       "      video.size(width, height);\n",
       "      video.hide();\n",
       "\n",
       "      // Load the HandPose model\n",
       "      handpose = ml5.handpose(video, modelReady);\n",
       "\n",
       "      // This event is triggered when predictions are made\n",
       "      handpose.on('predict', results => {\n",
       "        predictions = results;\n",
       "      });\n",
       "    }\n",
       "\n",
       "    function modelReady() {\n",
       "      console.log('Model ready!');\n",
       "    }\n",
       "\n",
       "    function draw() {\n",
       "      image(video, 0, 0);\n",
       "\n",
       "      for (let i = 0; i < predictions.length; i++) {\n",
       "        let prediction = predictions[i];\n",
       "        for (let j = 0; j < prediction.landmarks.length; j++) {\n",
       "          let landmark = prediction.landmarks[j];\n",
       "          fill(0, 255, 0);\n",
       "          noStroke();\n",
       "          ellipse(landmark[0], landmark[1], 10, 10);\n",
       "        }\n",
       "      }\n",
       "    }\n",
       "\n",
       "    setup();\n",
       "  });\n",
       "</script>\n"
      ],
      "text/plain": [
       "<IPython.core.display.HTML object>"
      ]
     },
     "metadata": {},
     "output_type": "display_data"
    }
   ],
   "source": [
    "# | hide\n",
    "from IPython.display import display, HTML, Javascript\n",
    "\n",
    "# Insertar el script de ml5.js\n",
    "display(HTML('''\n",
    "<script src=\"https://unpkg.com/ml5@1/dist/ml5.js\"></script>\n",
    "'''))\n",
    "\n",
    "# Puedes agregar más código JavaScript aquí\n",
    "display(Javascript('''\n",
    "console.log(\"ml5.js loaded successfully!\");\n",
    "'''))\n",
    "\n",
    "\n",
    "display(HTML('''\n",
    "<script>\n",
    "  // Asegúrate de que el script de ml5.js se haya cargado\n",
    "  document.addEventListener('DOMContentLoaded', (event) => {\n",
    "    let handpose;\n",
    "    let video;\n",
    "    let predictions = [];\n",
    "\n",
    "    function setup() {\n",
    "      createCanvas(640, 480);\n",
    "      video = createCapture(VIDEO);\n",
    "      video.size(width, height);\n",
    "      video.hide();\n",
    "\n",
    "      // Load the HandPose model\n",
    "      handpose = ml5.handpose(video, modelReady);\n",
    "\n",
    "      // This event is triggered when predictions are made\n",
    "      handpose.on('predict', results => {\n",
    "        predictions = results;\n",
    "      });\n",
    "    }\n",
    "\n",
    "    function modelReady() {\n",
    "      console.log('Model ready!');\n",
    "    }\n",
    "\n",
    "    function draw() {\n",
    "      image(video, 0, 0);\n",
    "\n",
    "      for (let i = 0; i < predictions.length; i++) {\n",
    "        let prediction = predictions[i];\n",
    "        for (let j = 0; j < prediction.landmarks.length; j++) {\n",
    "          let landmark = prediction.landmarks[j];\n",
    "          fill(0, 255, 0);\n",
    "          noStroke();\n",
    "          ellipse(landmark[0], landmark[1], 10, 10);\n",
    "        }\n",
    "      }\n",
    "    }\n",
    "\n",
    "    setup();\n",
    "  });\n",
    "</script>\n",
    "'''))\n"
   ]
  },
  {
   "cell_type": "code",
   "execution_count": 26,
   "metadata": {},
   "outputs": [
    {
     "data": {
      "text/html": [
       "<h1>HOLA MUNDO</h1>"
      ],
      "text/plain": [
       "<IPython.core.display.HTML object>"
      ]
     },
     "metadata": {},
     "output_type": "display_data"
    }
   ],
   "source": [
    "display(HTML('<h1>HOLA MUNDO</h1>'))"
   ]
  }
 ],
 "metadata": {
  "kernelspec": {
   "display_name": "python3",
   "language": "python",
   "name": "python3"
  },
  "language_info": {
   "codemirror_mode": {
    "name": "ipython",
    "version": 3
   },
   "file_extension": ".py",
   "mimetype": "text/x-python",
   "name": "python",
   "nbconvert_exporter": "python",
   "pygments_lexer": "ipython3",
   "version": "3.12.0"
  }
 },
 "nbformat": 4,
 "nbformat_minor": 4
}
